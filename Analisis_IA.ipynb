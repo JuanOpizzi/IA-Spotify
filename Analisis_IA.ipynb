{
  "nbformat": 4,
  "nbformat_minor": 0,
  "metadata": {
    "colab": {
      "name": "Analisis IA.ipynb",
      "provenance": [],
      "collapsed_sections": [],
      "toc_visible": true,
      "authorship_tag": "ABX9TyN7AoJWIOW9fWice5J9ndty"
    },
    "kernelspec": {
      "name": "python3",
      "display_name": "Python 3"
    }
  },
  "cells": [
    {
      "cell_type": "markdown",
      "metadata": {
        "id": "cPzrdPx1gqQ3"
      },
      "source": [
        "# Introduccion\n",
        "en este notebook se analizará, un dataset de 2000 canciones, y se espera crear una red neuronal capaz de poder el valor de popularidad de una canción"
      ]
    },
    {
      "cell_type": "code",
      "metadata": {
        "id": "W6viMLIcgNPM"
      },
      "source": [
        "import numpy as np\n",
        "import pandas as pd\n",
        "import matplotlib.pyplot as plt"
      ],
      "execution_count": 6,
      "outputs": []
    },
    {
      "cell_type": "code",
      "metadata": {
        "id": "s04KjpZinNNU"
      },
      "source": [
        "import keras"
      ],
      "execution_count": 7,
      "outputs": []
    },
    {
      "cell_type": "code",
      "metadata": {
        "id": "hQBuCb3bkLQr",
        "colab": {
          "base_uri": "https://localhost:8080/",
          "height": 293
        },
        "outputId": "71a9e097-d641-4463-f206-719f7bf9f974"
      },
      "source": [
        "spotify = pd.read_csv('Spotify-2000.csv')\n",
        "spotify.head()"
      ],
      "execution_count": 8,
      "outputs": [
        {
          "output_type": "execute_result",
          "data": {
            "text/html": [
              "<div>\n",
              "<style scoped>\n",
              "    .dataframe tbody tr th:only-of-type {\n",
              "        vertical-align: middle;\n",
              "    }\n",
              "\n",
              "    .dataframe tbody tr th {\n",
              "        vertical-align: top;\n",
              "    }\n",
              "\n",
              "    .dataframe thead th {\n",
              "        text-align: right;\n",
              "    }\n",
              "</style>\n",
              "<table border=\"1\" class=\"dataframe\">\n",
              "  <thead>\n",
              "    <tr style=\"text-align: right;\">\n",
              "      <th></th>\n",
              "      <th>Index</th>\n",
              "      <th>Title</th>\n",
              "      <th>Artist</th>\n",
              "      <th>Top Genre</th>\n",
              "      <th>Year</th>\n",
              "      <th>Beats Per Minute (BPM)</th>\n",
              "      <th>Energy</th>\n",
              "      <th>Danceability</th>\n",
              "      <th>Loudness (dB)</th>\n",
              "      <th>Liveness</th>\n",
              "      <th>Valence</th>\n",
              "      <th>Length (Duration)</th>\n",
              "      <th>Acousticness</th>\n",
              "      <th>Speechiness</th>\n",
              "      <th>Popularity</th>\n",
              "    </tr>\n",
              "  </thead>\n",
              "  <tbody>\n",
              "    <tr>\n",
              "      <th>0</th>\n",
              "      <td>1</td>\n",
              "      <td>Sunrise</td>\n",
              "      <td>Norah Jones</td>\n",
              "      <td>adult standards</td>\n",
              "      <td>2004</td>\n",
              "      <td>157</td>\n",
              "      <td>30</td>\n",
              "      <td>53</td>\n",
              "      <td>-14</td>\n",
              "      <td>11</td>\n",
              "      <td>68</td>\n",
              "      <td>201</td>\n",
              "      <td>94</td>\n",
              "      <td>3</td>\n",
              "      <td>71</td>\n",
              "    </tr>\n",
              "    <tr>\n",
              "      <th>1</th>\n",
              "      <td>2</td>\n",
              "      <td>Black Night</td>\n",
              "      <td>Deep Purple</td>\n",
              "      <td>album rock</td>\n",
              "      <td>2000</td>\n",
              "      <td>135</td>\n",
              "      <td>79</td>\n",
              "      <td>50</td>\n",
              "      <td>-11</td>\n",
              "      <td>17</td>\n",
              "      <td>81</td>\n",
              "      <td>207</td>\n",
              "      <td>17</td>\n",
              "      <td>7</td>\n",
              "      <td>39</td>\n",
              "    </tr>\n",
              "    <tr>\n",
              "      <th>2</th>\n",
              "      <td>3</td>\n",
              "      <td>Clint Eastwood</td>\n",
              "      <td>Gorillaz</td>\n",
              "      <td>alternative hip hop</td>\n",
              "      <td>2001</td>\n",
              "      <td>168</td>\n",
              "      <td>69</td>\n",
              "      <td>66</td>\n",
              "      <td>-9</td>\n",
              "      <td>7</td>\n",
              "      <td>52</td>\n",
              "      <td>341</td>\n",
              "      <td>2</td>\n",
              "      <td>17</td>\n",
              "      <td>69</td>\n",
              "    </tr>\n",
              "    <tr>\n",
              "      <th>3</th>\n",
              "      <td>4</td>\n",
              "      <td>The Pretender</td>\n",
              "      <td>Foo Fighters</td>\n",
              "      <td>alternative metal</td>\n",
              "      <td>2007</td>\n",
              "      <td>173</td>\n",
              "      <td>96</td>\n",
              "      <td>43</td>\n",
              "      <td>-4</td>\n",
              "      <td>3</td>\n",
              "      <td>37</td>\n",
              "      <td>269</td>\n",
              "      <td>0</td>\n",
              "      <td>4</td>\n",
              "      <td>76</td>\n",
              "    </tr>\n",
              "    <tr>\n",
              "      <th>4</th>\n",
              "      <td>5</td>\n",
              "      <td>Waitin' On A Sunny Day</td>\n",
              "      <td>Bruce Springsteen</td>\n",
              "      <td>classic rock</td>\n",
              "      <td>2002</td>\n",
              "      <td>106</td>\n",
              "      <td>82</td>\n",
              "      <td>58</td>\n",
              "      <td>-5</td>\n",
              "      <td>10</td>\n",
              "      <td>87</td>\n",
              "      <td>256</td>\n",
              "      <td>1</td>\n",
              "      <td>3</td>\n",
              "      <td>59</td>\n",
              "    </tr>\n",
              "  </tbody>\n",
              "</table>\n",
              "</div>"
            ],
            "text/plain": [
              "   Index                   Title  ... Speechiness Popularity\n",
              "0      1                 Sunrise  ...           3         71\n",
              "1      2             Black Night  ...           7         39\n",
              "2      3          Clint Eastwood  ...          17         69\n",
              "3      4           The Pretender  ...           4         76\n",
              "4      5  Waitin' On A Sunny Day  ...           3         59\n",
              "\n",
              "[5 rows x 15 columns]"
            ]
          },
          "metadata": {
            "tags": []
          },
          "execution_count": 8
        }
      ]
    },
    {
      "cell_type": "markdown",
      "metadata": {
        "id": "9XoGAnYfo1Mi"
      },
      "source": [
        "Separo el dataset, por un lado 'X' va a tener de columnas todos los posibles features que se puede user, 'y' va a ser nuestra columna target, el valor que queremos predecir"
      ]
    },
    {
      "cell_type": "code",
      "metadata": {
        "id": "DvP5PtudodjW"
      },
      "source": [
        "X, y = spotify.iloc[:,:-1], spotify.iloc[:,-1]"
      ],
      "execution_count": 10,
      "outputs": []
    },
    {
      "cell_type": "code",
      "metadata": {
        "id": "S7lUgr4Hmr2D"
      },
      "source": [
        "from sklearn.model_selection import train_test_split\n",
        "\n",
        "X_train, X_test, y_train, y_test = \\\n",
        "    train_test_split(X, y, test_size=0.2, random_state=123)"
      ],
      "execution_count": 11,
      "outputs": []
    }
  ]
}